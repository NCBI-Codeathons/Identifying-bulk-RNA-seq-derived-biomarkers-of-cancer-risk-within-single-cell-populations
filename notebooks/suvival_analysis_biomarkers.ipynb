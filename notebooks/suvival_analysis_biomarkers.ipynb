{
 "cells": [
  {
   "cell_type": "markdown",
   "metadata": {},
   "source": [
    "Load dependencies"
   ]
  },
  {
   "cell_type": "code",
   "execution_count": 11,
   "metadata": {},
   "outputs": [],
   "source": [
    "MARKERS = ['CD79B', 'MAP2K3', 'IMPDH1', 'SLC16A3', 'MPZL3', 'APOBR']"
   ]
  },
  {
   "cell_type": "markdown",
   "metadata": {},
   "source": [
    "Load dependencies"
   ]
  },
  {
   "cell_type": "code",
   "execution_count": 12,
   "metadata": {},
   "outputs": [],
   "source": [
    "import sklearn\n",
    "from sklearn.neighbors import BallTree\n",
    "import scipy\n",
    "from scipy.spatial import distance\n",
    "from scipy.stats import zscore\n",
    "import sys\n",
    "import numpy as np\n",
    "import pandas as pd\n",
    "import lifelines\n",
    "from lifelines import KaplanMeierFitter\n",
    "\n",
    "sys.path.append('/Users/matthewbernstein/Development/single-cell-hackathon/Identifying-bulk-RNA-seq-derived-biomarkers-of-cancer-risk-within-single-cell-populations/src/common')\n",
    "\n",
    "import load_TCGA_GBM\n",
    "import load_GSE103224\n",
    "import normalize\n",
    "import slice_matrix"
   ]
  },
  {
   "cell_type": "markdown",
   "metadata": {},
   "source": [
    "Retrieve and normalize the TCGA bulk RNA-seq data"
   ]
  },
  {
   "cell_type": "code",
   "execution_count": 13,
   "metadata": {},
   "outputs": [
    {
     "data": {
      "text/plain": [
       "(147, 6)"
      ]
     },
     "execution_count": 13,
     "metadata": {},
     "output_type": "execute_result"
    }
   ],
   "source": [
    "# Retrieve counts matrix\n",
    "X, samples = load_TCGA_GBM.counts_matrix()\n",
    "X = slice_matrix.keep_genes(\n",
    "    X, \n",
    "    load_TCGA_GBM.GENE_NAMES, \n",
    "    MARKERS\n",
    ")\n",
    "\n",
    "# Normalize\n",
    "X = normalize.log_cpm(X)\n",
    "\n",
    "# Compute x-scores\n",
    "X = zscore(X)\n",
    "\n",
    "# Make sure the metadata and matrix are aligned\n",
    "assert tuple(load_TCGA_GBM.SAMPLE_IDS) == tuple(load_TCGA_GBM.TCGA_GBM_META['sample_id']) \n",
    "\n",
    "X.shape"
   ]
  },
  {
   "cell_type": "markdown",
   "metadata": {},
   "source": [
    "Compute the sum of the z-scores for each tumor and compute the top and bottom quantiles"
   ]
  },
  {
   "cell_type": "code",
   "execution_count": 14,
   "metadata": {},
   "outputs": [],
   "source": [
    "scores = np.sum(X, axis=1)\n",
    "\n",
    "up_q = 0.6 # Top quantile\n",
    "low_q = 0.4 # Bottom quantile\n",
    "high = np.quantile(scores, up_q)\n",
    "low = np.quantile(scores, low_q)"
   ]
  },
  {
   "cell_type": "markdown",
   "metadata": {},
   "source": [
    "Partition data into top and bottom quantile"
   ]
  },
  {
   "cell_type": "code",
   "execution_count": 15,
   "metadata": {},
   "outputs": [],
   "source": [
    "df = load_TCGA_GBM.TCGA_GBM_META\n",
    "df_scores = pd.DataFrame(\n",
    "    data=[\n",
    "        (sample, score) \n",
    "        for sample,score in zip(load_TCGA_GBM.SAMPLE_IDS, scores)\n",
    "    ],\n",
    "    columns=['sample_id', 'score']\n",
    ")\n",
    "df_scores = df_scores.set_index('sample_id')\n",
    "df = df.set_index('sample_id')\n",
    "df = df.join(df_scores, on='sample_id', how='left')\n",
    "\n",
    "\n",
    "df_high = df.loc[df['score'] > high]\n",
    "df_low = df.loc[df['score'] <= low]"
   ]
  },
  {
   "cell_type": "markdown",
   "metadata": {},
   "source": [
    "Plot Kaplan-Meier curves"
   ]
  },
  {
   "cell_type": "code",
   "execution_count": 16,
   "metadata": {},
   "outputs": [
    {
     "data": {
      "text/plain": [
       "<matplotlib.axes._subplots.AxesSubplot at 0x12eb939b0>"
      ]
     },
     "execution_count": 16,
     "metadata": {},
     "output_type": "execute_result"
    },
    {
     "data": {
      "image/png": "[encoded data removed]",
      "text/plain": [
       "<Figure size 432x288 with 1 Axes>"
      ]
     },
     "metadata": {
      "needs_background": "light"
     },
     "output_type": "display_data"
    }
   ],
   "source": [
    "kmf = KaplanMeierFitter()\n",
    "kmf.fit(\n",
    "    df_high['time'],\n",
    "    df_high['censor'],\n",
    "    label='>{}th Quantile (n={})'.format(int(up_q * 100), len(df_high))\n",
    ")\n",
    "ax = kmf.plot(ci_show=False, show_censors=True, color='hotpink', ls='-')\n",
    "kmf.fit(\n",
    "    df_low['time'],\n",
    "    df_low['censor'],\n",
    "    label='<{}th Quantile (n={})'.format(int(low_q * 100), len(df_low))\n",
    ")\n",
    "ax = kmf.plot(ci_show=False, show_censors=True, ax=ax, color='mediumblue', ls='-')\n",
    "ax.set_xlim((0,730))\n",
    "ax"
   ]
  },
  {
   "cell_type": "code",
   "execution_count": null,
   "metadata": {},
   "outputs": [],
   "source": []
  }
 ],
 "metadata": {
  "kernelspec": {
   "display_name": "Python 3",
   "language": "python",
   "name": "python3"
  },
  "language_info": {
   "codemirror_mode": {
    "name": "ipython",
    "version": 3
   },
   "file_extension": ".py",
   "mimetype": "text/x-python",
   "name": "python",
   "nbconvert_exporter": "python",
   "pygments_lexer": "ipython3",
   "version": "3.7.2"
  }
 },
 "nbformat": 4,
 "nbformat_minor": 2
}
