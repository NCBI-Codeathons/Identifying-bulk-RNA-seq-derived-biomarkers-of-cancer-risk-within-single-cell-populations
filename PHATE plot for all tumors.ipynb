{
 "cells": [
  {
   "cell_type": "code",
   "execution_count": null,
   "metadata": {},
   "outputs": [],
   "source": [
    "import h5py\n",
    "import numpy as np\n",
    "import pandas as pd\n",
    "from collections import defaultdict\n",
    "import phate\n",
    "import scanpy as sc\n",
    "import plotly.express as px\n",
    "\n",
    "from anndata import AnnData"
   ]
  },
  {
   "cell_type": "code",
   "execution_count": null,
   "metadata": {},
   "outputs": [],
   "source": [
    "DATA_F = '../data/GSE103224.h5'\n",
    "BIOMARKER_F = '../data/glioma_survival_associated_genes_Fatai.csv'"
   ]
  },
  {
   "cell_type": "code",
   "execution_count": null,
   "metadata": {},
   "outputs": [],
   "source": [
    "with h5py.File(DATA_F, 'r') as f:\n",
    "    CELLS = [\n",
    "        str(x)[2:-1]\n",
    "        for x in f['cell'][:]\n",
    "    ]\n",
    "    TUMORS = [\n",
    "        str(x)[2:-1]\n",
    "        for x in f['tumor'][:]\n",
    "    ]\n",
    "    GENE_IDS = [\n",
    "        str(x)[2:-1]\n",
    "        for x in f['gene_id'][:]\n",
    "    ]\n",
    "    GENE_NAMES = [\n",
    "        str(x)[2:-1]\n",
    "        for x in f['gene_name'][:]\n",
    "    ]\n",
    "    \n",
    "# Map each cell to its index in the data matrix\n",
    "CELL_TO_INDEX = {\n",
    "    cell: index\n",
    "    for index, cell in enumerate(CELLS)\n",
    "}\n",
    "\n",
    "# Map each tumor to its indices in the data matrix\n",
    "TUMOR_TO_INDICES = defaultdict(lambda: [])\n",
    "for index, tumor in enumerate(TUMORS):\n",
    "    TUMOR_TO_INDICES[tumor].append(index)\n",
    "TUMOR_TO_INDICES = dict(TUMOR_TO_INDICES)\n",
    "\n",
    "def counts_matrix_for_tumor(tumor):\n",
    "    indices = TUMOR_TO_INDICES[tumor]\n",
    "    with h5py.File(DATA_F, 'r') as f:\n",
    "        counts = f['count'][indices]\n",
    "    cells = list(np.array(CELLS)[indices])\n",
    "    return counts, cells"
   ]
  },
  {
   "cell_type": "code",
   "execution_count": null,
   "metadata": {},
   "outputs": [],
   "source": [
    "tumor_dfs = {}\n",
    "TUMORS = np.unique(TUMORS)\n",
    "for tumor in TUMORS:\n",
    "    print(tumor)\n",
    "    counts, cells = counts_matrix_for_tumor(tumor)\n",
    "    ad = AnnData(\n",
    "            X=counts, \n",
    "            obs=pd.DataFrame(data=cells, columns=['cell']),\n",
    "            var=pd.DataFrame(\n",
    "                index=GENE_NAMES, \n",
    "                data=GENE_NAMES, \n",
    "                columns=['gene_name']\n",
    "            )\n",
    "        )\n",
    "    sc.pp.normalize_total(ad, target_sum=1e6)\n",
    "    sc.pp.log1p(ad)\n",
    "    tumor_dfs[tumor] = ad"
   ]
  },
  {
   "cell_type": "code",
   "execution_count": null,
   "metadata": {},
   "outputs": [],
   "source": [
    "all_tumor_df = pd.concat([pd.DataFrame(tumor_dfs[tumor].X, \n",
    "                                       index=tumor_dfs[tumor].obs[\"cell\"],\n",
    "                                       columns=GENE_NAMES) for tumor in TUMORS])"
   ]
  }
 ],
 "metadata": {
  "kernelspec": {
   "display_name": "Python 3",
   "language": "python",
   "name": "python3"
  },
  "language_info": {
   "codemirror_mode": {
    "name": "ipython",
    "version": 3
   },
   "file_extension": ".py",
   "mimetype": "text/x-python",
   "name": "python",
   "nbconvert_exporter": "python",
   "pygments_lexer": "ipython3",
   "version": "3.6.10"
  }
 },
 "nbformat": 4,
 "nbformat_minor": 4
}
