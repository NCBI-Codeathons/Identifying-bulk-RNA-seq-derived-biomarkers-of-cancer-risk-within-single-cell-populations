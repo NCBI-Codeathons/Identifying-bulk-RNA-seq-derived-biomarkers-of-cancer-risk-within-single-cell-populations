{
 "cells": [
  {
   "cell_type": "code",
   "execution_count": 1,
   "metadata": {},
   "outputs": [],
   "source": [
    "import h5py\n",
    "import numpy as np\n",
    "import pandas as pd\n",
    "from collections import defaultdict\n",
    "import phate\n",
    "import scanpy as sc\n",
    "import plotly.express as px\n",
    "\n",
    "from anndata import AnnData"
   ]
  },
  {
   "cell_type": "code",
   "execution_count": 2,
   "metadata": {},
   "outputs": [],
   "source": [
    "DATA_F = '../data/GSE103224.h5'\n",
    "BIOMARKER_F = '../data/glioma_survival_associated_genes_Fatai.csv'"
   ]
  },
  {
   "cell_type": "code",
   "execution_count": 3,
   "metadata": {},
   "outputs": [],
   "source": [
    "with h5py.File(DATA_F, 'r') as f:\n",
    "    CELLS = [\n",
    "        str(x)[2:-1]\n",
    "        for x in f['cell'][:]\n",
    "    ]\n",
    "    TUMORS = [\n",
    "        str(x)[2:-1]\n",
    "        for x in f['tumor'][:]\n",
    "    ]\n",
    "    GENE_IDS = [\n",
    "        str(x)[2:-1]\n",
    "        for x in f['gene_id'][:]\n",
    "    ]\n",
    "    GENE_NAMES = [\n",
    "        str(x)[2:-1]\n",
    "        for x in f['gene_name'][:]\n",
    "    ]\n",
    "    \n",
    "# Map each cell to its index in the data matrix\n",
    "CELL_TO_INDEX = {\n",
    "    cell: index\n",
    "    for index, cell in enumerate(CELLS)\n",
    "}\n",
    "\n",
    "# Map each tumor to its indices in the data matrix\n",
    "TUMOR_TO_INDICES = defaultdict(lambda: [])\n",
    "for index, tumor in enumerate(TUMORS):\n",
    "    TUMOR_TO_INDICES[tumor].append(index)\n",
    "TUMOR_TO_INDICES = dict(TUMOR_TO_INDICES)"
   ]
  },
  {
   "cell_type": "code",
   "execution_count": 4,
   "metadata": {},
   "outputs": [],
   "source": [
    "def counts_matrix_for_tumor(tumor):\n",
    "    \"\"\"\n",
    "    Retrieve the counts matrix for a given tumor.\n",
    "\n",
    "    Args:\n",
    "        tumor: the tumor ID\n",
    "    Returns:\n",
    "        counts: matrix of counts for tumor\n",
    "        cells: cell names correponding to the\n",
    "            rows of counts\n",
    "    \"\"\"\n",
    "    indices = TUMOR_TO_INDICES[tumor]\n",
    "    with h5py.File(DATA_F, 'r') as f:\n",
    "        counts = f['count'][indices]\n",
    "    cells = list(np.array(CELLS)[indices])\n",
    "    return counts, cells"
   ]
  },
  {
   "cell_type": "markdown",
   "metadata": {},
   "source": [
    "# Subset to biomarker expressions"
   ]
  },
  {
   "cell_type": "code",
   "execution_count": 83,
   "metadata": {},
   "outputs": [
    {
     "data": {
      "text/plain": [
       "Index(['TIMP1', 'CASP3', 'PLA2G5', 'CDC6', 'TIMP4', 'INHBB', 'HOMER1',\n",
       "       'PDLIM3', 'RPRM', 'DKK1', 'DYNLT3', 'NET1', 'NET1', 'CCNA1', 'PDGFRA',\n",
       "       'NSUN5', 'NSUN5', 'PYGB', 'SLC43A3', 'TAGLN2', 'CDK2', 'ID4', 'ATRX',\n",
       "       'SH2B2', 'SFRP4', 'FAM3C', 'ACOX2', 'THBS2', 'ZNF609', 'SFRP1',\n",
       "       'IGFBP3', 'MGMT', 'FZD3', 'CCNE1', 'LGALS8', 'LGALS8', 'TP53', 'THBS3',\n",
       "       'IDH1', 'MDK', 'DCTD', 'PRKAR2B', 'KLF13', 'POLE3', 'IGFBP2', 'IGFBP2',\n",
       "       'CCND1', 'CDKN2A', 'PDPN', 'ADM', 'FZD7', 'GHR', 'EZH2', 'TFRC',\n",
       "       'RGS14', 'PIK3CA', 'VEGFA', 'REPS2', 'MT1M', 'CDKN1C', 'STMN1', 'IRS2',\n",
       "       'HSPA1B', 'LIFR', 'G6PC3', 'GADD45G', 'FBXO17', 'PTPRN', 'WAC',\n",
       "       'STAG3L4', 'EFEMP2', 'EFEMP2', 'PPARGC1A', 'EGFR', 'MT1E'],\n",
       "      dtype='object')"
      ]
     },
     "execution_count": 83,
     "metadata": {},
     "output_type": "execute_result"
    }
   ],
   "source": [
    "biomarkers = pd.read_table(BIOMARKER_F, )\n",
    "genes = pd.Index(GENE_NAMES) & biomarkers[\"Gene\"]\n",
    "genes"
   ]
  },
  {
   "cell_type": "code",
   "execution_count": 94,
   "metadata": {},
   "outputs": [],
   "source": [
    "gene_indices = [np.where(np.array(GENE_NAMES) == gene)[0][0] for gene in genes.unique()]"
   ]
  },
  {
   "cell_type": "markdown",
   "metadata": {},
   "source": [
    "# Geting count matrix, normalizing, and calculate PHATE on biomarker expression"
   ]
  },
  {
   "cell_type": "code",
   "execution_count": 96,
   "metadata": {
    "scrolled": true
   },
   "outputs": [
    {
     "name": "stdout",
     "output_type": "stream",
     "text": [
      "PJ016\n"
     ]
    },
    {
     "name": "stderr",
     "output_type": "stream",
     "text": [
      "Transforming to str index.\n",
      "Variable names are not unique. To make them unique, call `.var_names_make_unique`.\n"
     ]
    },
    {
     "name": "stdout",
     "output_type": "stream",
     "text": [
      "Calculating PHATE...\n",
      "  Running PHATE on 3085 cells and 70 genes.\n",
      "  Calculating graph and diffusion operator...\n",
      "    Calculating KNN search...\n",
      "    Calculated KNN search in 0.34 seconds.\n",
      "    Calculating affinities...\n",
      "    Calculated affinities in 0.06 seconds.\n",
      "  Calculated graph and diffusion operator in 0.41 seconds.\n",
      "  Calculating landmark operator...\n",
      "    Calculating SVD...\n",
      "    Calculated SVD in 0.15 seconds.\n",
      "    Calculating KMeans...\n",
      "    Calculated KMeans in 15.77 seconds.\n",
      "  Calculated landmark operator in 17.11 seconds.\n",
      "  Calculating optimal t...\n",
      "  Calculated optimal t in 1.98 seconds.\n",
      "  Calculating diffusion potential...\n",
      "  Calculated diffusion potential in 0.58 seconds.\n",
      "  Calculating metric MDS...\n",
      "  Calculated metric MDS in 10.64 seconds.\n",
      "Calculated PHATE in 30.72 seconds.\n"
     ]
    },
    {
     "name": "stderr",
     "output_type": "stream",
     "text": [
      "AnnData expects string indices for some functionality, but your first two indices are: RangeIndex(start=0, stop=2, step=1). \n"
     ]
    },
    {
     "name": "stdout",
     "output_type": "stream",
     "text": [
      "PJ017\n"
     ]
    },
    {
     "name": "stderr",
     "output_type": "stream",
     "text": [
      "Transforming to str index.\n",
      "Variable names are not unique. To make them unique, call `.var_names_make_unique`.\n"
     ]
    },
    {
     "name": "stdout",
     "output_type": "stream",
     "text": [
      "Calculating PHATE...\n",
      "  Running PHATE on 1261 cells and 70 genes.\n",
      "  Calculating graph and diffusion operator...\n",
      "    Calculating KNN search...\n",
      "    Calculated KNN search in 0.12 seconds.\n",
      "    Calculating affinities...\n",
      "    Calculated affinities in 0.03 seconds.\n",
      "  Calculated graph and diffusion operator in 0.16 seconds.\n",
      "  Calculating optimal t...\n"
     ]
    },
    {
     "name": "stderr",
     "output_type": "stream",
     "text": [
      "/Users/jonny/anaconda3/lib/python3.6/site-packages/graphtools/graphs.py:291: RuntimeWarning:\n",
      "\n",
      "Detected zero distance between 420 pairs of samples. Consider removing duplicates to avoid errors in downstream processing.\n",
      "\n",
      "/Users/jonny/anaconda3/lib/python3.6/site-packages/graphtools/graphs.py:449: RuntimeWarning:\n",
      "\n",
      "overflow encountered in power\n",
      "\n"
     ]
    },
    {
     "name": "stdout",
     "output_type": "stream",
     "text": [
      "  Calculated optimal t in 0.52 seconds.\n",
      "  Calculating diffusion potential...\n",
      "  Calculated diffusion potential in 0.20 seconds.\n",
      "  Calculating metric MDS...\n",
      "  Calculated metric MDS in 3.17 seconds.\n",
      "Calculated PHATE in 4.06 seconds.\n"
     ]
    },
    {
     "name": "stderr",
     "output_type": "stream",
     "text": [
      "AnnData expects string indices for some functionality, but your first two indices are: RangeIndex(start=0, stop=2, step=1). \n"
     ]
    },
    {
     "name": "stdout",
     "output_type": "stream",
     "text": [
      "PJ018\n"
     ]
    },
    {
     "name": "stderr",
     "output_type": "stream",
     "text": [
      "Transforming to str index.\n",
      "Variable names are not unique. To make them unique, call `.var_names_make_unique`.\n"
     ]
    },
    {
     "name": "stdout",
     "output_type": "stream",
     "text": [
      "Calculating PHATE...\n",
      "  Running PHATE on 2197 cells and 70 genes.\n",
      "  Calculating graph and diffusion operator...\n",
      "    Calculating KNN search...\n",
      "    Calculated KNN search in 0.22 seconds.\n",
      "    Calculating affinities...\n",
      "    Calculated affinities in 0.05 seconds.\n",
      "  Calculated graph and diffusion operator in 0.28 seconds.\n",
      "  Calculating landmark operator...\n",
      "    Calculating SVD...\n",
      "    Calculated SVD in 0.11 seconds.\n",
      "    Calculating KMeans...\n"
     ]
    },
    {
     "name": "stderr",
     "output_type": "stream",
     "text": [
      "/Users/jonny/anaconda3/lib/python3.6/site-packages/graphtools/graphs.py:282: RuntimeWarning:\n",
      "\n",
      "Detected zero distance between samples 1539 and 2042, 1539 and 2127, 1539 and 2183, 2042 and 2127, 2042 and 2183, 2127 and 2183. Consider removing duplicates to avoid errors in downstream processing.\n",
      "\n"
     ]
    },
    {
     "name": "stdout",
     "output_type": "stream",
     "text": [
      "    Calculated KMeans in 13.76 seconds.\n",
      "  Calculated landmark operator in 15.00 seconds.\n",
      "  Calculating optimal t...\n",
      "  Calculated optimal t in 1.95 seconds.\n",
      "  Calculating diffusion potential...\n",
      "  Calculated diffusion potential in 0.47 seconds.\n",
      "  Calculating metric MDS...\n",
      "  Calculated metric MDS in 10.61 seconds.\n",
      "Calculated PHATE in 28.31 seconds.\n"
     ]
    },
    {
     "name": "stderr",
     "output_type": "stream",
     "text": [
      "AnnData expects string indices for some functionality, but your first two indices are: RangeIndex(start=0, stop=2, step=1). \n"
     ]
    },
    {
     "name": "stdout",
     "output_type": "stream",
     "text": [
      "PJ025\n"
     ]
    },
    {
     "name": "stderr",
     "output_type": "stream",
     "text": [
      "Transforming to str index.\n",
      "Variable names are not unique. To make them unique, call `.var_names_make_unique`.\n"
     ]
    },
    {
     "name": "stdout",
     "output_type": "stream",
     "text": [
      "Calculating PHATE...\n",
      "  Running PHATE on 5924 cells and 70 genes.\n",
      "  Calculating graph and diffusion operator...\n",
      "    Calculating KNN search...\n",
      "    Calculated KNN search in 0.76 seconds.\n",
      "    Calculating affinities...\n",
      "    Calculated affinities in 0.13 seconds.\n",
      "  Calculated graph and diffusion operator in 0.90 seconds.\n",
      "  Calculating landmark operator...\n",
      "    Calculating SVD...\n"
     ]
    },
    {
     "name": "stderr",
     "output_type": "stream",
     "text": [
      "/Users/jonny/anaconda3/lib/python3.6/site-packages/graphtools/graphs.py:291: RuntimeWarning:\n",
      "\n",
      "Detected zero distance between 704 pairs of samples. Consider removing duplicates to avoid errors in downstream processing.\n",
      "\n",
      "/Users/jonny/anaconda3/lib/python3.6/site-packages/graphtools/graphs.py:449: RuntimeWarning:\n",
      "\n",
      "overflow encountered in power\n",
      "\n"
     ]
    },
    {
     "name": "stdout",
     "output_type": "stream",
     "text": [
      "    Calculated SVD in 0.33 seconds.\n",
      "    Calculating KMeans...\n",
      "    Calculated KMeans in 14.80 seconds.\n",
      "  Calculated landmark operator in 16.39 seconds.\n",
      "  Calculating optimal t...\n",
      "  Calculated optimal t in 2.05 seconds.\n",
      "  Calculating diffusion potential...\n",
      "  Calculated diffusion potential in 0.61 seconds.\n",
      "  Calculating metric MDS...\n",
      "  Calculated metric MDS in 10.65 seconds.\n",
      "Calculated PHATE in 30.61 seconds.\n"
     ]
    },
    {
     "name": "stderr",
     "output_type": "stream",
     "text": [
      "AnnData expects string indices for some functionality, but your first two indices are: RangeIndex(start=0, stop=2, step=1). \n"
     ]
    },
    {
     "name": "stdout",
     "output_type": "stream",
     "text": [
      "PJ030\n"
     ]
    },
    {
     "name": "stderr",
     "output_type": "stream",
     "text": [
      "Transforming to str index.\n",
      "Variable names are not unique. To make them unique, call `.var_names_make_unique`.\n"
     ]
    },
    {
     "name": "stdout",
     "output_type": "stream",
     "text": [
      "Calculating PHATE...\n",
      "  Running PHATE on 3097 cells and 70 genes.\n",
      "  Calculating graph and diffusion operator...\n",
      "    Calculating KNN search...\n",
      "    Calculated KNN search in 0.33 seconds.\n",
      "    Calculating affinities...\n",
      "    Calculated affinities in 0.07 seconds.\n",
      "  Calculated graph and diffusion operator in 0.41 seconds.\n",
      "  Calculating landmark operator...\n",
      "    Calculating SVD...\n"
     ]
    },
    {
     "name": "stderr",
     "output_type": "stream",
     "text": [
      "/Users/jonny/anaconda3/lib/python3.6/site-packages/graphtools/graphs.py:291: RuntimeWarning:\n",
      "\n",
      "Detected zero distance between 2072 pairs of samples. Consider removing duplicates to avoid errors in downstream processing.\n",
      "\n",
      "/Users/jonny/anaconda3/lib/python3.6/site-packages/graphtools/graphs.py:449: RuntimeWarning:\n",
      "\n",
      "overflow encountered in power\n",
      "\n"
     ]
    },
    {
     "name": "stdout",
     "output_type": "stream",
     "text": [
      "    Calculated SVD in 0.17 seconds.\n",
      "    Calculating KMeans...\n",
      "    Calculated KMeans in 13.77 seconds.\n",
      "  Calculated landmark operator in 15.14 seconds.\n",
      "  Calculating optimal t...\n",
      "  Calculated optimal t in 2.00 seconds.\n",
      "  Calculating diffusion potential...\n",
      "  Calculated diffusion potential in 0.39 seconds.\n",
      "  Calculating metric MDS...\n",
      "  Calculated metric MDS in 10.39 seconds.\n",
      "Calculated PHATE in 28.34 seconds.\n"
     ]
    },
    {
     "name": "stderr",
     "output_type": "stream",
     "text": [
      "AnnData expects string indices for some functionality, but your first two indices are: RangeIndex(start=0, stop=2, step=1). \n"
     ]
    },
    {
     "name": "stdout",
     "output_type": "stream",
     "text": [
      "PJ032\n"
     ]
    },
    {
     "name": "stderr",
     "output_type": "stream",
     "text": [
      "Transforming to str index.\n",
      "Variable names are not unique. To make them unique, call `.var_names_make_unique`.\n"
     ]
    },
    {
     "name": "stdout",
     "output_type": "stream",
     "text": [
      "Calculating PHATE...\n",
      "  Running PHATE on 1377 cells and 70 genes.\n",
      "  Calculating graph and diffusion operator...\n",
      "    Calculating KNN search...\n",
      "    Calculated KNN search in 0.12 seconds.\n",
      "    Calculating affinities...\n",
      "    Calculated affinities in 0.04 seconds.\n",
      "  Calculated graph and diffusion operator in 0.16 seconds.\n",
      "  Calculating optimal t...\n"
     ]
    },
    {
     "name": "stderr",
     "output_type": "stream",
     "text": [
      "/Users/jonny/anaconda3/lib/python3.6/site-packages/graphtools/graphs.py:291: RuntimeWarning:\n",
      "\n",
      "Detected zero distance between 1894 pairs of samples. Consider removing duplicates to avoid errors in downstream processing.\n",
      "\n",
      "/Users/jonny/anaconda3/lib/python3.6/site-packages/graphtools/graphs.py:449: RuntimeWarning:\n",
      "\n",
      "overflow encountered in power\n",
      "\n"
     ]
    },
    {
     "name": "stdout",
     "output_type": "stream",
     "text": [
      "  Calculated optimal t in 0.66 seconds.\n",
      "  Calculating diffusion potential...\n",
      "  Calculated diffusion potential in 0.19 seconds.\n",
      "  Calculating metric MDS...\n",
      "  Calculated metric MDS in 4.02 seconds.\n",
      "Calculated PHATE in 5.04 seconds.\n"
     ]
    },
    {
     "name": "stderr",
     "output_type": "stream",
     "text": [
      "AnnData expects string indices for some functionality, but your first two indices are: RangeIndex(start=0, stop=2, step=1). \n"
     ]
    },
    {
     "name": "stdout",
     "output_type": "stream",
     "text": [
      "PJ035\n"
     ]
    },
    {
     "name": "stderr",
     "output_type": "stream",
     "text": [
      "Transforming to str index.\n",
      "Variable names are not unique. To make them unique, call `.var_names_make_unique`.\n"
     ]
    },
    {
     "name": "stdout",
     "output_type": "stream",
     "text": [
      "Calculating PHATE...\n",
      "  Running PHATE on 3768 cells and 70 genes.\n",
      "  Calculating graph and diffusion operator...\n",
      "    Calculating KNN search...\n",
      "    Calculated KNN search in 0.34 seconds.\n",
      "    Calculating affinities...\n",
      "    Calculated affinities in 0.09 seconds.\n",
      "  Calculated graph and diffusion operator in 0.44 seconds.\n",
      "  Calculating landmark operator...\n",
      "    Calculating SVD...\n"
     ]
    },
    {
     "name": "stderr",
     "output_type": "stream",
     "text": [
      "/Users/jonny/anaconda3/lib/python3.6/site-packages/graphtools/graphs.py:291: RuntimeWarning:\n",
      "\n",
      "Detected zero distance between 4306 pairs of samples. Consider removing duplicates to avoid errors in downstream processing.\n",
      "\n",
      "/Users/jonny/anaconda3/lib/python3.6/site-packages/graphtools/graphs.py:449: RuntimeWarning:\n",
      "\n",
      "overflow encountered in power\n",
      "\n"
     ]
    },
    {
     "name": "stdout",
     "output_type": "stream",
     "text": [
      "    Calculated SVD in 0.22 seconds.\n",
      "    Calculating KMeans...\n",
      "    Calculated KMeans in 11.09 seconds.\n",
      "  Calculated landmark operator in 12.89 seconds.\n",
      "  Calculating optimal t...\n",
      "  Calculated optimal t in 2.21 seconds.\n",
      "  Calculating diffusion potential...\n",
      "  Calculated diffusion potential in 0.47 seconds.\n",
      "  Calculating metric MDS...\n",
      "  Calculated metric MDS in 10.24 seconds.\n",
      "Calculated PHATE in 26.26 seconds.\n"
     ]
    },
    {
     "name": "stderr",
     "output_type": "stream",
     "text": [
      "AnnData expects string indices for some functionality, but your first two indices are: RangeIndex(start=0, stop=2, step=1). \n"
     ]
    },
    {
     "name": "stdout",
     "output_type": "stream",
     "text": [
      "PJ048\n"
     ]
    },
    {
     "name": "stderr",
     "output_type": "stream",
     "text": [
      "Transforming to str index.\n",
      "Variable names are not unique. To make them unique, call `.var_names_make_unique`.\n"
     ]
    },
    {
     "name": "stdout",
     "output_type": "stream",
     "text": [
      "Calculating PHATE...\n",
      "  Running PHATE on 3084 cells and 70 genes.\n",
      "  Calculating graph and diffusion operator...\n",
      "    Calculating KNN search...\n",
      "    Calculated KNN search in 0.24 seconds.\n",
      "    Calculating affinities...\n",
      "    Calculated affinities in 0.07 seconds.\n",
      "  Calculated graph and diffusion operator in 0.32 seconds.\n",
      "  Calculating landmark operator...\n",
      "    Calculating SVD...\n"
     ]
    },
    {
     "name": "stderr",
     "output_type": "stream",
     "text": [
      "/Users/jonny/anaconda3/lib/python3.6/site-packages/graphtools/graphs.py:291: RuntimeWarning:\n",
      "\n",
      "Detected zero distance between 998 pairs of samples. Consider removing duplicates to avoid errors in downstream processing.\n",
      "\n",
      "/Users/jonny/anaconda3/lib/python3.6/site-packages/graphtools/graphs.py:449: RuntimeWarning:\n",
      "\n",
      "overflow encountered in power\n",
      "\n"
     ]
    },
    {
     "name": "stdout",
     "output_type": "stream",
     "text": [
      "    Calculated SVD in 0.18 seconds.\n",
      "    Calculating KMeans...\n",
      "    Calculated KMeans in 12.80 seconds.\n",
      "  Calculated landmark operator in 14.13 seconds.\n",
      "  Calculating optimal t...\n",
      "  Calculated optimal t in 2.04 seconds.\n",
      "  Calculating diffusion potential...\n",
      "  Calculated diffusion potential in 0.47 seconds.\n",
      "  Calculating metric MDS...\n",
      "  Calculated metric MDS in 10.30 seconds.\n",
      "Calculated PHATE in 27.26 seconds.\n"
     ]
    },
    {
     "name": "stderr",
     "output_type": "stream",
     "text": [
      "AnnData expects string indices for some functionality, but your first two indices are: RangeIndex(start=0, stop=2, step=1). \n"
     ]
    }
   ],
   "source": [
    "tumor_dfs = {}\n",
    "TUMORS = np.unique(TUMORS)\n",
    "for tumor in TUMORS:\n",
    "    print(tumor)\n",
    "    counts, cells = counts_matrix_for_tumor(tumor)\n",
    "    ad = AnnData(\n",
    "            X=counts, \n",
    "            obs=pd.DataFrame(data=cells, columns=['cell']),\n",
    "            var=pd.DataFrame(\n",
    "                index=GENE_NAMES, \n",
    "                data=GENE_NAMES, \n",
    "                columns=['gene_name']\n",
    "            )\n",
    "        )\n",
    "    sc.pp.normalize_total(ad, target_sum=1e6)\n",
    "    sc.pp.log1p(ad)\n",
    "    tumor_dfs[tumor] = ad\n",
    "    \n",
    "    # Calculate PHATE on biomarker expressions\n",
    "    phate_operator = phate.PHATE(n_jobs=-2, random_state=1)\n",
    "    X_phate = phate_operator.fit_transform(tumor_dfs[tumor].X[:, gene_indices])\n",
    "    tumor_dfs[tumor].obs = pd.DataFrame(\n",
    "        data=[[x,y,cell] for (x,y),cell in zip(X_phate, cells)], columns=['PHATE 1', 'PHATE 2', 'cell'])"
   ]
  },
  {
   "cell_type": "code",
   "execution_count": 112,
   "metadata": {},
   "outputs": [],
   "source": [
    "all_tumor_df = pd.concat([pd.DataFrame(tumor_dfs[tumor].X, \n",
    "                                       index=tumor_dfs[tumor].obs[\"cell\"],\n",
    "                                       columns=GENE_NAMES) for tumor in TUMORS])"
   ]
  },
  {
   "cell_type": "code",
   "execution_count": null,
   "metadata": {},
   "outputs": [
    {
     "name": "stdout",
     "output_type": "stream",
     "text": [
      "Calculating PHATE...\n",
      "  Running PHATE on 23793 cells and 60725 genes.\n",
      "  Calculating graph and diffusion operator...\n",
      "    Calculating PCA...\n"
     ]
    }
   ],
   "source": [
    "# Calculate PHATE on biomarker expressions\n",
    "phate_operator = phate.PHATE(n_jobs=-2, random_state=1)\n",
    "X_phate = phate_operator.fit_transform(all_tumor_df)"
   ]
  },
  {
   "cell_type": "code",
   "execution_count": null,
   "metadata": {},
   "outputs": [],
   "source": [
    "for tumor in tumor_dfs:\n",
    "    print(tumor)\n",
    "    fig = px.scatter(x=tumor_dfs[tumor].obs[\"PHATE 1\"], \n",
    "                     y=tumor_dfs[tumor].obs[\"PHATE 2\"], \n",
    "                     labels=[tumor_dfs[tumor].obs[\"cell\"]])\n",
    "    fig.show()"
   ]
  },
  {
   "cell_type": "code",
   "execution_count": null,
   "metadata": {},
   "outputs": [],
   "source": []
  }
 ],
 "metadata": {
  "kernelspec": {
   "display_name": "Python 3",
   "language": "python",
   "name": "python3"
  },
  "language_info": {
   "codemirror_mode": {
    "name": "ipython",
    "version": 3
   },
   "file_extension": ".py",
   "mimetype": "text/x-python",
   "name": "python",
   "nbconvert_exporter": "python",
   "pygments_lexer": "ipython3",
   "version": "3.6.10"
  }
 },
 "nbformat": 4,
 "nbformat_minor": 4
}
